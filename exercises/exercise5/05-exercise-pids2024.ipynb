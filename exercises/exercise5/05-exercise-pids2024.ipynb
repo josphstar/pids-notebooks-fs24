{
 "cells": [
  {
   "cell_type": "code",
   "execution_count": 3,
   "id": "fe9638ac",
   "metadata": {},
   "outputs": [],
   "source": [
    "# Initialize Otter\n",
    "import otter\n",
    "grader = otter.Notebook(\"05-exercise-pids2024.ipynb\")"
   ]
  },
  {
   "cell_type": "markdown",
   "id": "fda78361",
   "metadata": {},
   "source": [
    "# Exercise sheet 5\n",
    "**Hello everyone!**\n",
    "\n",
    "**Points: 15**\n",
    "\n",
    "Topics of this exercise sheet are:\n",
    "* Probabilities\n",
    "* Conditional Probabilities\n",
    "\n",
    "\n",
    "Please let us know if you have questions or problems! <br>\n",
    "Contact us during the exercise session or on [Piazza](https://piazza.com/unibas.ch/spring2024/63982).\n",
    "\n",
    "**Automatic Feedback**\n",
    "\n",
    "This notebook can be automatically graded using Otter grader. To find how many points you get, simply run `grader.check_all()` from a new cell. "
   ]
  },
  {
   "cell_type": "code",
   "execution_count": 4,
   "id": "3cb955b2",
   "metadata": {},
   "outputs": [],
   "source": [
    "import pandas as pd\n",
    "import seaborn as sns\n",
    "import matplotlib.pyplot as plt\n",
    "import numpy as np"
   ]
  },
  {
   "cell_type": "markdown",
   "id": "628b4d45",
   "metadata": {},
   "source": [
    "## 1 (6 points)\n",
    "Let's start with some basic probability terms.\n",
    "\n",
    "### 1a (1 point)\n",
    "What is $\\Omega$ for 3 coin tosses? Use the Python 'set' data structure with tuples to describe each possible outcome. Name the result `omega_three_coin_tosses`. Use 0 for tails and 1 for heads.\n",
    "\n",
    "* **Recall:** $\\Omega$ is the set of all possible outcomes of an experiment. \n",
    "* **Hint:** Make use of pythons [set comprehensions](https://python-reference.readthedocs.io/en/latest/docs/comprehensions/set_comprehension.html) "
   ]
  },
  {
   "cell_type": "code",
   "execution_count": 5,
   "id": "9d9fbf7a",
   "metadata": {
    "nbgrader": {
     "grade": false,
     "grade_id": "cell-85f0aa24377f6a04",
     "locked": false,
     "schema_version": 3,
     "solution": true,
     "task": false
    }
   },
   "outputs": [],
   "source": [
    "class Question1a:\n",
    "    # omega_three_coin_tosses = set(...)\n",
    "    omega_three_coin_tosses = ..."
   ]
  },
  {
   "cell_type": "code",
   "execution_count": 6,
   "id": "5e1e280d",
   "metadata": {
    "deletable": false,
    "editable": false
   },
   "outputs": [
    {
     "data": {
      "text/html": [
       "<p><strong style='color: red;'><pre style='display: inline;'>Question 1a</pre> results:</strong></p><p><strong><pre style='display: inline;'>Question 1a - 1</pre> result:</strong></p><pre>    ❌ Test case failed\n",
       "    Error at line 10 in test Question 1a:\n",
       "          assert_is_instance(omega_three_coin_tosses, set)\n",
       "    AssertionError: Ellipsis is not instance of <class 'set'></pre>"
      ],
      "text/plain": [
       "Question 1a results:\n",
       "    Question 1a - 1 result:\n",
       "        ❌ Test case failed\n",
       "        Error at line 10 in test Question 1a:\n",
       "              assert_is_instance(omega_three_coin_tosses, set)\n",
       "        AssertionError: Ellipsis is not instance of <class 'set'>"
      ]
     },
     "execution_count": 6,
     "metadata": {},
     "output_type": "execute_result"
    }
   ],
   "source": [
    "grader.check(\"Question 1a\")"
   ]
  },
  {
   "cell_type": "markdown",
   "id": "39083529",
   "metadata": {},
   "source": [
    "### 1b (1 point)\n",
    "We roll two standard dice.\n",
    "What is $\\Omega$ for \"We roll the same number twice?\"\n",
    "\n",
    "Save your answer as a 'set' data structure under the name `omega_same_number_twice`."
   ]
  },
  {
   "cell_type": "code",
   "execution_count": 7,
   "id": "f5cf5157",
   "metadata": {
    "nbgrader": {
     "grade": false,
     "grade_id": "cell-e14669da3b7636be",
     "locked": false,
     "schema_version": 3,
     "solution": true,
     "task": false
    }
   },
   "outputs": [],
   "source": [
    "class Question1b:\n",
    "    omega_same_number_twice = ..."
   ]
  },
  {
   "cell_type": "code",
   "execution_count": 8,
   "id": "e49f6846",
   "metadata": {
    "deletable": false,
    "editable": false
   },
   "outputs": [
    {
     "data": {
      "text/html": [
       "<p><strong style='color: red;'><pre style='display: inline;'>Question 1b</pre> results:</strong></p><p><strong><pre style='display: inline;'>Question 1b - 1</pre> result:</strong></p><pre>    ❌ Test case failed\n",
       "    Error at line 10 in test Question 1b:\n",
       "          assert_is_instance(omega_same_number_twice, set)\n",
       "    AssertionError: Ellipsis is not instance of <class 'set'></pre>"
      ],
      "text/plain": [
       "Question 1b results:\n",
       "    Question 1b - 1 result:\n",
       "        ❌ Test case failed\n",
       "        Error at line 10 in test Question 1b:\n",
       "              assert_is_instance(omega_same_number_twice, set)\n",
       "        AssertionError: Ellipsis is not instance of <class 'set'>"
      ]
     },
     "execution_count": 8,
     "metadata": {},
     "output_type": "execute_result"
    }
   ],
   "source": [
    "grader.check(\"Question 1b\")"
   ]
  },
  {
   "cell_type": "markdown",
   "id": "118f9dcd",
   "metadata": {},
   "source": [
    "### 1c (1 point)\n",
    "We roll two standard dice. What is the probability ($\\mathbb{P}$) for the sum of the two dice being lower than 30?\n",
    "Put the result in a variable named `probability_lower_30` and make sure to right the probability as a fraction.\n",
    "\n",
    "For instance, if the question was \"what is the probability having two tails while flipping consecutively two coins?\", your answer should be 1/4 and not 0.25, because there is one event in the set of all 4 possible events where that appears. We ask for this specific format to make sure that you understand how to compute it."
   ]
  },
  {
   "cell_type": "code",
   "execution_count": 9,
   "id": "dccac11e",
   "metadata": {
    "nbgrader": {
     "grade": false,
     "grade_id": "cell-726e66c3dbc5c1f4",
     "locked": false,
     "schema_version": 3,
     "solution": true,
     "task": false
    }
   },
   "outputs": [],
   "source": [
    "class Question1c:\n",
    "    probability_lower_30 = ..."
   ]
  },
  {
   "cell_type": "code",
   "execution_count": 10,
   "id": "7972aa3e",
   "metadata": {
    "deletable": false,
    "editable": false
   },
   "outputs": [
    {
     "data": {
      "text/html": [
       "<p><strong style='color: red;'><pre style='display: inline;'>Question 1c</pre> results:</strong></p><p><strong><pre style='display: inline;'>Question 1c - 1</pre> result:</strong></p><pre>    ❌ Test case failed\n",
       "    Error at line 10 in test Question 1c:\n",
       "          assert_is_instance(probability_lower_30, float)\n",
       "    AssertionError: Ellipsis is not instance of <class 'float'></pre>"
      ],
      "text/plain": [
       "Question 1c results:\n",
       "    Question 1c - 1 result:\n",
       "        ❌ Test case failed\n",
       "        Error at line 10 in test Question 1c:\n",
       "              assert_is_instance(probability_lower_30, float)\n",
       "        AssertionError: Ellipsis is not instance of <class 'float'>"
      ]
     },
     "execution_count": 10,
     "metadata": {},
     "output_type": "execute_result"
    }
   ],
   "source": [
    "grader.check(\"Question 1c\")"
   ]
  },
  {
   "cell_type": "markdown",
   "id": "a3b37d6b",
   "metadata": {},
   "source": [
    "### 1d (1 point)\n",
    "We roll two standard dice. What is the probability for the sum of the two dice being lower or equal to 6?\n",
    "Put the result in a variable named `probability_lower_6` and make sure to right the probability as a fraction."
   ]
  },
  {
   "cell_type": "code",
   "execution_count": 11,
   "id": "353f5f31",
   "metadata": {
    "nbgrader": {
     "grade": false,
     "grade_id": "cell-3f1a63a0f6475004",
     "locked": false,
     "schema_version": 3,
     "solution": true,
     "task": false
    }
   },
   "outputs": [],
   "source": [
    "class Question1d:\n",
    "    probability_lower_6 = ..."
   ]
  },
  {
   "cell_type": "code",
   "execution_count": 12,
   "id": "c879b87c",
   "metadata": {
    "nbgrader": {
     "grade": true,
     "grade_id": "cell-912ffb901cab2c66",
     "locked": true,
     "points": 1,
     "schema_version": 3,
     "solution": false,
     "task": false
    }
   },
   "outputs": [
    {
     "data": {
      "text/html": [
       "<p><strong style='color: red;'><pre style='display: inline;'>Question 1d</pre> results:</strong></p><p><strong><pre style='display: inline;'>Question 1d - 1</pre> result:</strong></p><pre>    ❌ Test case failed\n",
       "    Error at line 10 in test Question 1d:\n",
       "          assert_is_instance(probability_lower_6, float)\n",
       "    AssertionError: Ellipsis is not instance of <class 'float'></pre>"
      ],
      "text/plain": [
       "Question 1d results:\n",
       "    Question 1d - 1 result:\n",
       "        ❌ Test case failed\n",
       "        Error at line 10 in test Question 1d:\n",
       "              assert_is_instance(probability_lower_6, float)\n",
       "        AssertionError: Ellipsis is not instance of <class 'float'>"
      ]
     },
     "execution_count": 12,
     "metadata": {},
     "output_type": "execute_result"
    }
   ],
   "source": [
    "grader.check(\"Question 1d\")"
   ]
  },
  {
   "cell_type": "markdown",
   "id": "bc4461cd",
   "metadata": {},
   "source": [
    "### 1e (2 point)\n",
    "We roll two standard dice. If the first die shows a \"6\", what is the probability of the sum of the two dice being equal or higher than 8?\n",
    "Put the result in a variable named `probability_higher_8` and make sure to right the probability as a fraction."
   ]
  },
  {
   "cell_type": "code",
   "execution_count": 13,
   "id": "f3cfc222",
   "metadata": {
    "nbgrader": {
     "grade": false,
     "grade_id": "cell-37bbbd825b890acb",
     "locked": false,
     "schema_version": 3,
     "solution": true,
     "task": false
    }
   },
   "outputs": [],
   "source": [
    "class Question1e:\n",
    "    probability_higher_8 = ..."
   ]
  },
  {
   "cell_type": "code",
   "execution_count": 14,
   "id": "6cfd9c67",
   "metadata": {
    "deletable": false,
    "editable": false
   },
   "outputs": [
    {
     "data": {
      "text/html": [
       "<p><strong style='color: red;'><pre style='display: inline;'>Question 1e</pre> results:</strong></p><p><strong><pre style='display: inline;'>Question 1e - 1</pre> result:</strong></p><pre>    ❌ Test case failed\n",
       "    Error at line 10 in test Question 1e:\n",
       "          assert_is_instance(probability_higher_8, float)\n",
       "    AssertionError: Ellipsis is not instance of <class 'float'></pre>"
      ],
      "text/plain": [
       "Question 1e results:\n",
       "    Question 1e - 1 result:\n",
       "        ❌ Test case failed\n",
       "        Error at line 10 in test Question 1e:\n",
       "              assert_is_instance(probability_higher_8, float)\n",
       "        AssertionError: Ellipsis is not instance of <class 'float'>"
      ]
     },
     "execution_count": 14,
     "metadata": {},
     "output_type": "execute_result"
    }
   ],
   "source": [
    "grader.check(\"Question 1e\")"
   ]
  },
  {
   "cell_type": "markdown",
   "id": "3c879af9",
   "metadata": {},
   "source": [
    "## 2 (5 points)\n",
    "We will work with a dataset about strokes (sourced from [Kaggle](https://www.kaggle.com/datasets/fedesoriano/stroke-prediction-dataset))."
   ]
  },
  {
   "cell_type": "code",
   "execution_count": 15,
   "id": "aba45e7e",
   "metadata": {},
   "outputs": [
    {
     "data": {
      "text/html": [
       "<div>\n",
       "<style scoped>\n",
       "    .dataframe tbody tr th:only-of-type {\n",
       "        vertical-align: middle;\n",
       "    }\n",
       "\n",
       "    .dataframe tbody tr th {\n",
       "        vertical-align: top;\n",
       "    }\n",
       "\n",
       "    .dataframe thead th {\n",
       "        text-align: right;\n",
       "    }\n",
       "</style>\n",
       "<table border=\"1\" class=\"dataframe\">\n",
       "  <thead>\n",
       "    <tr style=\"text-align: right;\">\n",
       "      <th></th>\n",
       "      <th>id</th>\n",
       "      <th>gender</th>\n",
       "      <th>age</th>\n",
       "      <th>hypertension</th>\n",
       "      <th>heart_disease</th>\n",
       "      <th>ever_married</th>\n",
       "      <th>work_type</th>\n",
       "      <th>Residence_type</th>\n",
       "      <th>avg_glucose_level</th>\n",
       "      <th>bmi</th>\n",
       "      <th>smoking_status</th>\n",
       "      <th>stroke</th>\n",
       "    </tr>\n",
       "  </thead>\n",
       "  <tbody>\n",
       "    <tr>\n",
       "      <th>0</th>\n",
       "      <td>9046</td>\n",
       "      <td>Male</td>\n",
       "      <td>67.0</td>\n",
       "      <td>0</td>\n",
       "      <td>1</td>\n",
       "      <td>Yes</td>\n",
       "      <td>Private</td>\n",
       "      <td>Urban</td>\n",
       "      <td>228.69</td>\n",
       "      <td>36.6</td>\n",
       "      <td>formerly smoked</td>\n",
       "      <td>1</td>\n",
       "    </tr>\n",
       "    <tr>\n",
       "      <th>1</th>\n",
       "      <td>51676</td>\n",
       "      <td>Female</td>\n",
       "      <td>61.0</td>\n",
       "      <td>0</td>\n",
       "      <td>0</td>\n",
       "      <td>Yes</td>\n",
       "      <td>Self-employed</td>\n",
       "      <td>Rural</td>\n",
       "      <td>202.21</td>\n",
       "      <td>NaN</td>\n",
       "      <td>never smoked</td>\n",
       "      <td>1</td>\n",
       "    </tr>\n",
       "    <tr>\n",
       "      <th>2</th>\n",
       "      <td>31112</td>\n",
       "      <td>Male</td>\n",
       "      <td>80.0</td>\n",
       "      <td>0</td>\n",
       "      <td>1</td>\n",
       "      <td>Yes</td>\n",
       "      <td>Private</td>\n",
       "      <td>Rural</td>\n",
       "      <td>105.92</td>\n",
       "      <td>32.5</td>\n",
       "      <td>never smoked</td>\n",
       "      <td>1</td>\n",
       "    </tr>\n",
       "    <tr>\n",
       "      <th>3</th>\n",
       "      <td>60182</td>\n",
       "      <td>Female</td>\n",
       "      <td>49.0</td>\n",
       "      <td>0</td>\n",
       "      <td>0</td>\n",
       "      <td>Yes</td>\n",
       "      <td>Private</td>\n",
       "      <td>Urban</td>\n",
       "      <td>171.23</td>\n",
       "      <td>34.4</td>\n",
       "      <td>smokes</td>\n",
       "      <td>1</td>\n",
       "    </tr>\n",
       "    <tr>\n",
       "      <th>4</th>\n",
       "      <td>1665</td>\n",
       "      <td>Female</td>\n",
       "      <td>79.0</td>\n",
       "      <td>1</td>\n",
       "      <td>0</td>\n",
       "      <td>Yes</td>\n",
       "      <td>Self-employed</td>\n",
       "      <td>Rural</td>\n",
       "      <td>174.12</td>\n",
       "      <td>24.0</td>\n",
       "      <td>never smoked</td>\n",
       "      <td>1</td>\n",
       "    </tr>\n",
       "    <tr>\n",
       "      <th>...</th>\n",
       "      <td>...</td>\n",
       "      <td>...</td>\n",
       "      <td>...</td>\n",
       "      <td>...</td>\n",
       "      <td>...</td>\n",
       "      <td>...</td>\n",
       "      <td>...</td>\n",
       "      <td>...</td>\n",
       "      <td>...</td>\n",
       "      <td>...</td>\n",
       "      <td>...</td>\n",
       "      <td>...</td>\n",
       "    </tr>\n",
       "    <tr>\n",
       "      <th>5105</th>\n",
       "      <td>18234</td>\n",
       "      <td>Female</td>\n",
       "      <td>80.0</td>\n",
       "      <td>1</td>\n",
       "      <td>0</td>\n",
       "      <td>Yes</td>\n",
       "      <td>Private</td>\n",
       "      <td>Urban</td>\n",
       "      <td>83.75</td>\n",
       "      <td>NaN</td>\n",
       "      <td>never smoked</td>\n",
       "      <td>0</td>\n",
       "    </tr>\n",
       "    <tr>\n",
       "      <th>5106</th>\n",
       "      <td>44873</td>\n",
       "      <td>Female</td>\n",
       "      <td>81.0</td>\n",
       "      <td>0</td>\n",
       "      <td>0</td>\n",
       "      <td>Yes</td>\n",
       "      <td>Self-employed</td>\n",
       "      <td>Urban</td>\n",
       "      <td>125.20</td>\n",
       "      <td>40.0</td>\n",
       "      <td>never smoked</td>\n",
       "      <td>0</td>\n",
       "    </tr>\n",
       "    <tr>\n",
       "      <th>5107</th>\n",
       "      <td>19723</td>\n",
       "      <td>Female</td>\n",
       "      <td>35.0</td>\n",
       "      <td>0</td>\n",
       "      <td>0</td>\n",
       "      <td>Yes</td>\n",
       "      <td>Self-employed</td>\n",
       "      <td>Rural</td>\n",
       "      <td>82.99</td>\n",
       "      <td>30.6</td>\n",
       "      <td>never smoked</td>\n",
       "      <td>0</td>\n",
       "    </tr>\n",
       "    <tr>\n",
       "      <th>5108</th>\n",
       "      <td>37544</td>\n",
       "      <td>Male</td>\n",
       "      <td>51.0</td>\n",
       "      <td>0</td>\n",
       "      <td>0</td>\n",
       "      <td>Yes</td>\n",
       "      <td>Private</td>\n",
       "      <td>Rural</td>\n",
       "      <td>166.29</td>\n",
       "      <td>25.6</td>\n",
       "      <td>formerly smoked</td>\n",
       "      <td>0</td>\n",
       "    </tr>\n",
       "    <tr>\n",
       "      <th>5109</th>\n",
       "      <td>44679</td>\n",
       "      <td>Female</td>\n",
       "      <td>44.0</td>\n",
       "      <td>0</td>\n",
       "      <td>0</td>\n",
       "      <td>Yes</td>\n",
       "      <td>Govt_job</td>\n",
       "      <td>Urban</td>\n",
       "      <td>85.28</td>\n",
       "      <td>26.2</td>\n",
       "      <td>Unknown</td>\n",
       "      <td>0</td>\n",
       "    </tr>\n",
       "  </tbody>\n",
       "</table>\n",
       "<p>5110 rows × 12 columns</p>\n",
       "</div>"
      ],
      "text/plain": [
       "         id  gender   age  hypertension  heart_disease ever_married  \\\n",
       "0      9046    Male  67.0             0              1          Yes   \n",
       "1     51676  Female  61.0             0              0          Yes   \n",
       "2     31112    Male  80.0             0              1          Yes   \n",
       "3     60182  Female  49.0             0              0          Yes   \n",
       "4      1665  Female  79.0             1              0          Yes   \n",
       "...     ...     ...   ...           ...            ...          ...   \n",
       "5105  18234  Female  80.0             1              0          Yes   \n",
       "5106  44873  Female  81.0             0              0          Yes   \n",
       "5107  19723  Female  35.0             0              0          Yes   \n",
       "5108  37544    Male  51.0             0              0          Yes   \n",
       "5109  44679  Female  44.0             0              0          Yes   \n",
       "\n",
       "          work_type Residence_type  avg_glucose_level   bmi   smoking_status  \\\n",
       "0           Private          Urban             228.69  36.6  formerly smoked   \n",
       "1     Self-employed          Rural             202.21   NaN     never smoked   \n",
       "2           Private          Rural             105.92  32.5     never smoked   \n",
       "3           Private          Urban             171.23  34.4           smokes   \n",
       "4     Self-employed          Rural             174.12  24.0     never smoked   \n",
       "...             ...            ...                ...   ...              ...   \n",
       "5105        Private          Urban              83.75   NaN     never smoked   \n",
       "5106  Self-employed          Urban             125.20  40.0     never smoked   \n",
       "5107  Self-employed          Rural              82.99  30.6     never smoked   \n",
       "5108        Private          Rural             166.29  25.6  formerly smoked   \n",
       "5109       Govt_job          Urban              85.28  26.2          Unknown   \n",
       "\n",
       "      stroke  \n",
       "0          1  \n",
       "1          1  \n",
       "2          1  \n",
       "3          1  \n",
       "4          1  \n",
       "...      ...  \n",
       "5105       0  \n",
       "5106       0  \n",
       "5107       0  \n",
       "5108       0  \n",
       "5109       0  \n",
       "\n",
       "[5110 rows x 12 columns]"
      ]
     },
     "execution_count": 15,
     "metadata": {},
     "output_type": "execute_result"
    }
   ],
   "source": [
    "stroke_df = pd.read_csv(\"healthcare-dataset-stroke-data.csv\")\n",
    "stroke_df"
   ]
  },
  {
   "cell_type": "markdown",
   "id": "26bcaf8e",
   "metadata": {},
   "source": [
    "### 2a (1 point)\n",
    "For a patient contained in this dataset, what is the probability that they had a stroke $\\mathbb{P}(\\text{stroke})$?\n",
    "\n",
    "Make sure to save your answer in the variable `probability_stroke` and that it is a float value"
   ]
  },
  {
   "cell_type": "code",
   "execution_count": 16,
   "id": "4e4e511e",
   "metadata": {
    "nbgrader": {
     "grade": false,
     "grade_id": "cell-d705987e21fb4422",
     "locked": false,
     "schema_version": 3,
     "solution": true,
     "task": false
    }
   },
   "outputs": [
    {
     "name": "stdout",
     "output_type": "stream",
     "text": [
      "Ellipsis\n"
     ]
    }
   ],
   "source": [
    "class Question2a:\n",
    "    probability_stroke = ...\n",
    "    print(probability_stroke)"
   ]
  },
  {
   "cell_type": "code",
   "execution_count": 17,
   "id": "a10edf5a",
   "metadata": {
    "deletable": false,
    "editable": false
   },
   "outputs": [
    {
     "data": {
      "text/html": [
       "<p><strong style='color: red;'><pre style='display: inline;'>Question 2a</pre> results:</strong></p><p><strong><pre style='display: inline;'>Question 2a - 1</pre> result:</strong></p><pre>    ❌ Test case failed\n",
       "    Error at line 10 in test Question 2a:\n",
       "          assert_is_instance(probability_stroke, float)\n",
       "    AssertionError: Ellipsis is not instance of <class 'float'></pre>"
      ],
      "text/plain": [
       "Question 2a results:\n",
       "    Question 2a - 1 result:\n",
       "        ❌ Test case failed\n",
       "        Error at line 10 in test Question 2a:\n",
       "              assert_is_instance(probability_stroke, float)\n",
       "        AssertionError: Ellipsis is not instance of <class 'float'>"
      ]
     },
     "execution_count": 17,
     "metadata": {},
     "output_type": "execute_result"
    }
   ],
   "source": [
    "grader.check(\"Question 2a\")"
   ]
  },
  {
   "cell_type": "markdown",
   "id": "36d8198e",
   "metadata": {},
   "source": [
    "### 2b (1 point)\n",
    "For a patient contained in this dataset who had heart disease (heart_disease = 1), what is the probability that they had a stroke $\\mathbb{P}(\\text{stroke|heart_disease})$?\n",
    "\n",
    "**Reminder:** the conditional probability is defined as:\n",
    "$$ \\mathbb{P}(A|B) = \\frac{\\mathbb{P}(A \\cap B)}{\\mathbb{P}(B)}$$\n",
    "Make sure to save your answer in the variable `probability_stroke_heart_disease` and that it is a float value."
   ]
  },
  {
   "cell_type": "code",
   "execution_count": 33,
   "id": "45ce19b9",
   "metadata": {
    "nbgrader": {
     "grade": false,
     "grade_id": "cell-5ee38af4cad7f998",
     "locked": false,
     "schema_version": 3,
     "solution": true,
     "task": false
    }
   },
   "outputs": [
    {
     "name": "stdout",
     "output_type": "stream",
     "text": [
      "Ellipsis\n"
     ]
    }
   ],
   "source": [
    "class Question2b:\n",
    "    ...\n",
    "    probability_stroke_heart_disease = ...\n",
    "    print(probability_stroke_heart_disease)"
   ]
  },
  {
   "cell_type": "code",
   "execution_count": 34,
   "id": "525096e3",
   "metadata": {
    "deletable": false,
    "editable": false
   },
   "outputs": [
    {
     "data": {
      "text/html": [
       "<p><strong style='color: red;'><pre style='display: inline;'>Question 2b</pre> results:</strong></p><p><strong><pre style='display: inline;'>Question 2b - 1</pre> result:</strong></p><pre>    ❌ Test case failed\n",
       "    Error at line 10 in test Question 2b:\n",
       "          assert_is_instance(probability_stroke_heart_disease, float)\n",
       "    AssertionError: Ellipsis is not instance of <class 'float'></pre>"
      ],
      "text/plain": [
       "Question 2b results:\n",
       "    Question 2b - 1 result:\n",
       "        ❌ Test case failed\n",
       "        Error at line 10 in test Question 2b:\n",
       "              assert_is_instance(probability_stroke_heart_disease, float)\n",
       "        AssertionError: Ellipsis is not instance of <class 'float'>"
      ]
     },
     "execution_count": 34,
     "metadata": {},
     "output_type": "execute_result"
    }
   ],
   "source": [
    "grader.check(\"Question 2b\")"
   ]
  },
  {
   "cell_type": "markdown",
   "id": "1ad6abbe",
   "metadata": {},
   "source": [
    "### 2c (3 points)\n",
    "What is the probability of $P(\\text{stroke|hypertension})$?\n",
    "Make sure to save your answer in the variable `probability_stroke_hypertension` and that it is a float value.\n",
    "\n",
    "Hint: Check the slides for a very similar example about breast cancer"
   ]
  },
  {
   "cell_type": "code",
   "execution_count": 35,
   "id": "1efc4ec6",
   "metadata": {
    "nbgrader": {
     "grade": false,
     "grade_id": "cell-2871bba4629240f8",
     "locked": false,
     "schema_version": 3,
     "solution": true,
     "task": false
    }
   },
   "outputs": [
    {
     "name": "stdout",
     "output_type": "stream",
     "text": [
      "Ellipsis\n"
     ]
    }
   ],
   "source": [
    "class Question2c:\n",
    "    ...\n",
    "    probability_stroke_hypertension = ...\n",
    "    print(probability_stroke_hypertension)"
   ]
  },
  {
   "cell_type": "code",
   "execution_count": 36,
   "id": "262f159d",
   "metadata": {
    "deletable": false,
    "editable": false
   },
   "outputs": [
    {
     "data": {
      "text/html": [
       "<p><strong style='color: red;'><pre style='display: inline;'>Question 2c</pre> results:</strong></p><p><strong><pre style='display: inline;'>Question 2c - 1</pre> result:</strong></p><pre>    ❌ Test case failed\n",
       "    Error at line 10 in test Question 2c:\n",
       "          assert_is_instance(probability_stroke_hypertension, float)\n",
       "    AssertionError: Ellipsis is not instance of <class 'float'></pre>"
      ],
      "text/plain": [
       "Question 2c results:\n",
       "    Question 2c - 1 result:\n",
       "        ❌ Test case failed\n",
       "        Error at line 10 in test Question 2c:\n",
       "              assert_is_instance(probability_stroke_hypertension, float)\n",
       "        AssertionError: Ellipsis is not instance of <class 'float'>"
      ]
     },
     "execution_count": 36,
     "metadata": {},
     "output_type": "execute_result"
    }
   ],
   "source": [
    "grader.check(\"Question 2c\")"
   ]
  },
  {
   "cell_type": "markdown",
   "id": "76a91df9",
   "metadata": {},
   "source": [
    "### 2d (4 points)\n",
    "According to the [Mayo Clinic](https://www.mayoclinic.org/diseases-conditions/diabetes/diagnosis-treatment/drc-20371451), a \"blood sugar level less than 140 mg/dL (7.8 mmol/L) is normal\".\n",
    "\n",
    "* Make a new column called \"high_glucose\" in the dataframe `stroke_df` that has a 1 if the `avg_glucose_level` measurement was equal to or higher than 140, and a 0 otherwise."
   ]
  },
  {
   "cell_type": "code",
   "execution_count": 37,
   "id": "090bdf93",
   "metadata": {
    "nbgrader": {
     "grade": false,
     "grade_id": "cell-b62c57fe4875d77a",
     "locked": false,
     "schema_version": 3,
     "solution": true,
     "task": false
    }
   },
   "outputs": [],
   "source": [
    "class Question2d:\n",
    "    ..."
   ]
  },
  {
   "cell_type": "code",
   "execution_count": 38,
   "id": "2a803397",
   "metadata": {
    "deletable": false,
    "editable": false
   },
   "outputs": [
    {
     "data": {
      "text/html": [
       "<p><strong style='color: red;'><pre style='display: inline;'>Question 2d - 1</pre> results:</strong></p><p><strong><pre style='display: inline;'>Question 2d - 1 - 1</pre> result:</strong></p><pre>    ❌ Test case failed\n",
       "    Error at line 9 in test Question 2d - 1:\n",
       "          assert_equal(stroke_df[\"high_glucose\"].value_counts()[0], 4289)\n",
       "    KeyError: high_glucose</pre>"
      ],
      "text/plain": [
       "Question 2d - 1 results:\n",
       "    Question 2d - 1 - 1 result:\n",
       "        ❌ Test case failed\n",
       "        Error at line 9 in test Question 2d - 1:\n",
       "              assert_equal(stroke_df[\"high_glucose\"].value_counts()[0], 4289)\n",
       "        KeyError: high_glucose"
      ]
     },
     "execution_count": 38,
     "metadata": {},
     "output_type": "execute_result"
    }
   ],
   "source": [
    "grader.check(\"Question 2d - 1\")"
   ]
  },
  {
   "cell_type": "markdown",
   "id": "870bfd6b",
   "metadata": {},
   "source": [
    "* Use this new column to calculate $\\mathbb{P}(\\text{stroke|high_glucose})$.\n",
    "Make sure to save your answer in the variable `probability_stroke_high_glucose` and that it is a float value."
   ]
  },
  {
   "cell_type": "code",
   "execution_count": 25,
   "id": "cb8d1ce7",
   "metadata": {
    "nbgrader": {
     "grade": false,
     "grade_id": "cell-96a4ca2cec45e2e3",
     "locked": false,
     "schema_version": 3,
     "solution": true,
     "task": false
    }
   },
   "outputs": [
    {
     "name": "stdout",
     "output_type": "stream",
     "text": [
      "Ellipsis\n"
     ]
    }
   ],
   "source": [
    "class Question2d2:\n",
    "    ...\n",
    "    probability_stroke_high_glucose = ...\n",
    "    print(probability_stroke_high_glucose)"
   ]
  },
  {
   "cell_type": "code",
   "execution_count": 26,
   "id": "0098cced",
   "metadata": {
    "deletable": false,
    "editable": false
   },
   "outputs": [
    {
     "data": {
      "text/html": [
       "<p><strong style='color: red;'><pre style='display: inline;'>Question 2d - 2</pre> results:</strong></p><p><strong><pre style='display: inline;'>Question 2d - 2 - 1</pre> result:</strong></p><pre>    ❌ Test case failed\n",
       "    Error at line 10 in test Question 2d - 2:\n",
       "          assert_is_instance(probability_stroke_high_glucose, float)\n",
       "    AssertionError: Ellipsis is not instance of <class 'float'></pre>"
      ],
      "text/plain": [
       "Question 2d - 2 results:\n",
       "    Question 2d - 2 - 1 result:\n",
       "        ❌ Test case failed\n",
       "        Error at line 10 in test Question 2d - 2:\n",
       "              assert_is_instance(probability_stroke_high_glucose, float)\n",
       "        AssertionError: Ellipsis is not instance of <class 'float'>"
      ]
     },
     "execution_count": 26,
     "metadata": {},
     "output_type": "execute_result"
    }
   ],
   "source": [
    "grader.check(\"Question 2d - 2\")"
   ]
  },
  {
   "cell_type": "markdown",
   "id": "6c9d1ef3",
   "metadata": {},
   "source": [
    "* Calculate $\\mathbb{P}(\\text{high_glucose|stroke})$\n",
    "Make sure to save your answer in the variable `probability_high_glucose_stroke` and that it is a float value."
   ]
  },
  {
   "cell_type": "code",
   "execution_count": 39,
   "id": "b5f0ef86",
   "metadata": {
    "nbgrader": {
     "grade": false,
     "grade_id": "cell-cc7cf764ecaa7013",
     "locked": false,
     "schema_version": 3,
     "solution": true,
     "task": false
    }
   },
   "outputs": [
    {
     "name": "stdout",
     "output_type": "stream",
     "text": [
      "Ellipsis\n"
     ]
    }
   ],
   "source": [
    "class Question2d3:\n",
    "    ...\n",
    "    probability_high_glucose_stroke = ...\n",
    "    print(probability_high_glucose_stroke)"
   ]
  },
  {
   "cell_type": "code",
   "execution_count": 40,
   "id": "0f601868",
   "metadata": {
    "deletable": false,
    "editable": false
   },
   "outputs": [
    {
     "data": {
      "text/html": [
       "<p><strong style='color: red;'><pre style='display: inline;'>Question 2d - 3</pre> results:</strong></p><p><strong><pre style='display: inline;'>Question 2d - 3 - 1</pre> result:</strong></p><pre>    ❌ Test case failed\n",
       "    Error at line 10 in test Question 2d - 3:\n",
       "          assert_is_instance(probability_high_glucose_stroke, float)\n",
       "    AssertionError: Ellipsis is not instance of <class 'float'></pre>"
      ],
      "text/plain": [
       "Question 2d - 3 results:\n",
       "    Question 2d - 3 - 1 result:\n",
       "        ❌ Test case failed\n",
       "        Error at line 10 in test Question 2d - 3:\n",
       "              assert_is_instance(probability_high_glucose_stroke, float)\n",
       "        AssertionError: Ellipsis is not instance of <class 'float'>"
      ]
     },
     "execution_count": 40,
     "metadata": {},
     "output_type": "execute_result"
    }
   ],
   "source": [
    "grader.check(\"Question 2d - 3\")"
   ]
  },
  {
   "cell_type": "markdown",
   "id": "d5daccf5",
   "metadata": {
    "deletable": false,
    "editable": false
   },
   "source": [
    "---\n",
    "\n",
    "To double-check your work, the cell below will rerun all of the autograder tests."
   ]
  },
  {
   "cell_type": "code",
   "execution_count": 32,
   "id": "ddd3f09e",
   "metadata": {
    "deletable": false,
    "editable": false
   },
   "outputs": [
    {
     "data": {
      "text/plain": [
       "Question 1a results:\n",
       "    Question 1a - 1 result:\n",
       "        ❌ Test case failed\n",
       "        Error at line 10 in test Question 1a:\n",
       "              assert_is_instance(omega_three_coin_tosses, set)\n",
       "        AssertionError: Ellipsis is not instance of <class 'set'>\n",
       "\n",
       "Question 1b results:\n",
       "    Question 1b - 1 result:\n",
       "        ❌ Test case failed\n",
       "        Error at line 10 in test Question 1b:\n",
       "              assert_is_instance(omega_same_number_twice, set)\n",
       "        AssertionError: Ellipsis is not instance of <class 'set'>\n",
       "\n",
       "Question 1c results:\n",
       "    Question 1c - 1 result:\n",
       "        ❌ Test case failed\n",
       "        Error at line 10 in test Question 1c:\n",
       "              assert_is_instance(probability_lower_30, float)\n",
       "        AssertionError: Ellipsis is not instance of <class 'float'>\n",
       "\n",
       "Question 1d results:\n",
       "    Question 1d - 1 result:\n",
       "        ❌ Test case failed\n",
       "        Error at line 10 in test Question 1d:\n",
       "              assert_is_instance(probability_lower_6, float)\n",
       "        AssertionError: Ellipsis is not instance of <class 'float'>\n",
       "\n",
       "Question 1e results:\n",
       "    Question 1e - 1 result:\n",
       "        ❌ Test case failed\n",
       "        Error at line 10 in test Question 1e:\n",
       "              assert_is_instance(probability_higher_8, float)\n",
       "        AssertionError: Ellipsis is not instance of <class 'float'>\n",
       "\n",
       "Question 2a results:\n",
       "    Question 2a - 1 result:\n",
       "        ❌ Test case failed\n",
       "        Error at line 10 in test Question 2a:\n",
       "              assert_is_instance(probability_stroke, float)\n",
       "        AssertionError: Ellipsis is not instance of <class 'float'>\n",
       "\n",
       "Question 2b results:\n",
       "    Question 2b - 1 result:\n",
       "        ❌ Test case failed\n",
       "        Error at line 10 in test Question 2b:\n",
       "              assert_is_instance(probability_stroke_heart_disease, float)\n",
       "        AssertionError: Ellipsis is not instance of <class 'float'>\n",
       "\n",
       "Question 2c results:\n",
       "    Question 2c - 1 result:\n",
       "        ❌ Test case failed\n",
       "        Error at line 10 in test Question 2c:\n",
       "              assert_is_instance(probability_stroke_hypertension, float)\n",
       "        AssertionError: Ellipsis is not instance of <class 'float'>\n",
       "\n",
       "Question 2d - 1 results:\n",
       "    Question 2d - 1 - 1 result:\n",
       "        ❌ Test case failed\n",
       "        Error at line 9 in test Question 2d - 1:\n",
       "              assert_equal(stroke_df[\"high_glucose\"].value_counts()[0], 4289)\n",
       "        KeyError: high_glucose\n",
       "\n",
       "Question 2d - 2 results:\n",
       "    Question 2d - 2 - 1 result:\n",
       "        ❌ Test case failed\n",
       "        Error at line 10 in test Question 2d - 2:\n",
       "              assert_is_instance(probability_stroke_high_glucose, float)\n",
       "        AssertionError: Ellipsis is not instance of <class 'float'>\n",
       "\n",
       "Question 2d - 3 results:\n",
       "    Question 2d - 3 - 1 result:\n",
       "        ❌ Test case failed\n",
       "        Error at line 10 in test Question 2d - 3:\n",
       "              assert_is_instance(probability_high_glucose_stroke, float)\n",
       "        AssertionError: Ellipsis is not instance of <class 'float'>"
      ]
     },
     "execution_count": 32,
     "metadata": {},
     "output_type": "execute_result"
    }
   ],
   "source": [
    "grader.check_all()"
   ]
  },
  {
   "cell_type": "code",
   "execution_count": null,
   "id": "19675638-512d-4fb0-a276-2e01b44546fa",
   "metadata": {},
   "outputs": [],
   "source": []
  }
 ],
 "metadata": {
  "celltoolbar": "Edit Metadata",
  "kernelspec": {
   "display_name": "Python 3 (ipykernel)",
   "language": "python",
   "name": "python3"
  },
  "language_info": {
   "codemirror_mode": {
    "name": "ipython",
    "version": 3
   },
   "file_extension": ".py",
   "mimetype": "text/x-python",
   "name": "python",
   "nbconvert_exporter": "python",
   "pygments_lexer": "ipython3",
   "version": "3.10.12"
  }
 },
 "nbformat": 4,
 "nbformat_minor": 5
}
