{
 "cells": [
  {
   "cell_type": "markdown",
   "id": "9b0fe286",
   "metadata": {},
   "source": [
    "# Exercise sheet 2\n",
    "\n",
    "Topics of this exercise sheet are:\n",
    "\n",
    "* Work with Jupyter\n",
    "* Lecture 2: Tidy data, pandas\n",
    "\n",
    "Please let us know if you have questions or problems! <br>\n",
    "Contact us during the exercise session or on [Piazza](https://piazza.com/unibas.ch/spring2024/63982)\n",
    "\n",
    "\n",
    "**Automatic Feedback**\n",
    "\n",
    "This notebook can be automatically graded using Otter grader. To find how many points you get, simply run `grader.check_all()` from a new cell. "
   ]
  },
  {
   "cell_type": "markdown",
   "id": "52bdd705",
   "metadata": {},
   "source": [
    "### Setting up the grader\n",
    "\n",
    "Please run the following two cells to set up the grading system. "
   ]
  },
  {
   "cell_type": "code",
   "execution_count": 1,
   "id": "e4e5871c",
   "metadata": {
    "deletable": false,
    "editable": false
   },
   "outputs": [],
   "source": [
    "# Initialize Otter\n",
    "import otter\n",
    "grader = otter.Notebook(\"02-exercise-pids2024.ipynb\")"
   ]
  },
  {
   "cell_type": "code",
   "execution_count": 22,
   "id": "876e413c",
   "metadata": {},
   "outputs": [],
   "source": [
    "import numpy as np\n",
    "from pandas import DataFrame as df\n",
    "import otter\n",
    "grader = otter.Notebook()"
   ]
  },
  {
   "cell_type": "markdown",
   "id": "ff9a0ea9",
   "metadata": {},
   "source": [
    "## 1 - Tidy data (9 points)\n",
    "\n",
    "### A (2 points)\n",
    "We will use data published by the [World Bank](https://data.worldbank.org/indicator/SP.POP.TOTL) about population in countries."
   ]
  },
  {
   "cell_type": "code",
   "execution_count": 23,
   "id": "f90b39d4",
   "metadata": {},
   "outputs": [
    {
     "data": {
      "text/html": [
       "<div>\n",
       "<style scoped>\n",
       "    .dataframe tbody tr th:only-of-type {\n",
       "        vertical-align: middle;\n",
       "    }\n",
       "\n",
       "    .dataframe tbody tr th {\n",
       "        vertical-align: top;\n",
       "    }\n",
       "\n",
       "    .dataframe thead th {\n",
       "        text-align: right;\n",
       "    }\n",
       "</style>\n",
       "<table border=\"1\" class=\"dataframe\">\n",
       "  <thead>\n",
       "    <tr style=\"text-align: right;\">\n",
       "      <th></th>\n",
       "      <th>Country Name</th>\n",
       "      <th>Country Code</th>\n",
       "      <th>Indicator Name</th>\n",
       "      <th>Indicator Code</th>\n",
       "      <th>1960</th>\n",
       "      <th>1961</th>\n",
       "      <th>1962</th>\n",
       "      <th>1963</th>\n",
       "      <th>1964</th>\n",
       "      <th>1965</th>\n",
       "      <th>...</th>\n",
       "      <th>2011</th>\n",
       "      <th>2012</th>\n",
       "      <th>2013</th>\n",
       "      <th>2014</th>\n",
       "      <th>2015</th>\n",
       "      <th>2016</th>\n",
       "      <th>2017</th>\n",
       "      <th>2018</th>\n",
       "      <th>2019</th>\n",
       "      <th>2020</th>\n",
       "    </tr>\n",
       "  </thead>\n",
       "  <tbody>\n",
       "    <tr>\n",
       "      <th>0</th>\n",
       "      <td>Aruba</td>\n",
       "      <td>ABW</td>\n",
       "      <td>Population, total</td>\n",
       "      <td>SP.POP.TOTL</td>\n",
       "      <td>54208.0</td>\n",
       "      <td>55434.0</td>\n",
       "      <td>56234.0</td>\n",
       "      <td>56699.0</td>\n",
       "      <td>57029.0</td>\n",
       "      <td>57357.0</td>\n",
       "      <td>...</td>\n",
       "      <td>102050.0</td>\n",
       "      <td>102565.0</td>\n",
       "      <td>103165.0</td>\n",
       "      <td>103776.0</td>\n",
       "      <td>104339.0</td>\n",
       "      <td>104865.0</td>\n",
       "      <td>105361.0</td>\n",
       "      <td>105846.0</td>\n",
       "      <td>106310.0</td>\n",
       "      <td>106766.0</td>\n",
       "    </tr>\n",
       "    <tr>\n",
       "      <th>1</th>\n",
       "      <td>Africa Eastern and Southern</td>\n",
       "      <td>AFE</td>\n",
       "      <td>Population, total</td>\n",
       "      <td>SP.POP.TOTL</td>\n",
       "      <td>130836765.0</td>\n",
       "      <td>134159786.0</td>\n",
       "      <td>137614644.0</td>\n",
       "      <td>141202036.0</td>\n",
       "      <td>144920186.0</td>\n",
       "      <td>148769974.0</td>\n",
       "      <td>...</td>\n",
       "      <td>532760424.0</td>\n",
       "      <td>547482863.0</td>\n",
       "      <td>562601578.0</td>\n",
       "      <td>578075373.0</td>\n",
       "      <td>593871847.0</td>\n",
       "      <td>609978946.0</td>\n",
       "      <td>626392880.0</td>\n",
       "      <td>643090131.0</td>\n",
       "      <td>660046272.0</td>\n",
       "      <td>677243299.0</td>\n",
       "    </tr>\n",
       "    <tr>\n",
       "      <th>2</th>\n",
       "      <td>Afghanistan</td>\n",
       "      <td>AFG</td>\n",
       "      <td>Population, total</td>\n",
       "      <td>SP.POP.TOTL</td>\n",
       "      <td>8996967.0</td>\n",
       "      <td>9169406.0</td>\n",
       "      <td>9351442.0</td>\n",
       "      <td>9543200.0</td>\n",
       "      <td>9744772.0</td>\n",
       "      <td>9956318.0</td>\n",
       "      <td>...</td>\n",
       "      <td>30117411.0</td>\n",
       "      <td>31161378.0</td>\n",
       "      <td>32269592.0</td>\n",
       "      <td>33370804.0</td>\n",
       "      <td>34413603.0</td>\n",
       "      <td>35383028.0</td>\n",
       "      <td>36296111.0</td>\n",
       "      <td>37171922.0</td>\n",
       "      <td>38041757.0</td>\n",
       "      <td>38928341.0</td>\n",
       "    </tr>\n",
       "    <tr>\n",
       "      <th>3</th>\n",
       "      <td>Africa Western and Central</td>\n",
       "      <td>AFW</td>\n",
       "      <td>Population, total</td>\n",
       "      <td>SP.POP.TOTL</td>\n",
       "      <td>96396419.0</td>\n",
       "      <td>98407221.0</td>\n",
       "      <td>100506960.0</td>\n",
       "      <td>102691339.0</td>\n",
       "      <td>104953470.0</td>\n",
       "      <td>107289875.0</td>\n",
       "      <td>...</td>\n",
       "      <td>360285439.0</td>\n",
       "      <td>370243017.0</td>\n",
       "      <td>380437896.0</td>\n",
       "      <td>390882979.0</td>\n",
       "      <td>401586651.0</td>\n",
       "      <td>412551299.0</td>\n",
       "      <td>423769930.0</td>\n",
       "      <td>435229381.0</td>\n",
       "      <td>446911598.0</td>\n",
       "      <td>458803476.0</td>\n",
       "    </tr>\n",
       "    <tr>\n",
       "      <th>4</th>\n",
       "      <td>Angola</td>\n",
       "      <td>AGO</td>\n",
       "      <td>Population, total</td>\n",
       "      <td>SP.POP.TOTL</td>\n",
       "      <td>5454938.0</td>\n",
       "      <td>5531451.0</td>\n",
       "      <td>5608499.0</td>\n",
       "      <td>5679409.0</td>\n",
       "      <td>5734995.0</td>\n",
       "      <td>5770573.0</td>\n",
       "      <td>...</td>\n",
       "      <td>24220660.0</td>\n",
       "      <td>25107925.0</td>\n",
       "      <td>26015786.0</td>\n",
       "      <td>26941773.0</td>\n",
       "      <td>27884380.0</td>\n",
       "      <td>28842482.0</td>\n",
       "      <td>29816769.0</td>\n",
       "      <td>30809787.0</td>\n",
       "      <td>31825299.0</td>\n",
       "      <td>32866268.0</td>\n",
       "    </tr>\n",
       "  </tbody>\n",
       "</table>\n",
       "<p>5 rows × 65 columns</p>\n",
       "</div>"
      ],
      "text/plain": [
       "                  Country Name Country Code     Indicator Name Indicator Code  \\\n",
       "0                        Aruba          ABW  Population, total    SP.POP.TOTL   \n",
       "1  Africa Eastern and Southern          AFE  Population, total    SP.POP.TOTL   \n",
       "2                  Afghanistan          AFG  Population, total    SP.POP.TOTL   \n",
       "3   Africa Western and Central          AFW  Population, total    SP.POP.TOTL   \n",
       "4                       Angola          AGO  Population, total    SP.POP.TOTL   \n",
       "\n",
       "          1960         1961         1962         1963         1964  \\\n",
       "0      54208.0      55434.0      56234.0      56699.0      57029.0   \n",
       "1  130836765.0  134159786.0  137614644.0  141202036.0  144920186.0   \n",
       "2    8996967.0    9169406.0    9351442.0    9543200.0    9744772.0   \n",
       "3   96396419.0   98407221.0  100506960.0  102691339.0  104953470.0   \n",
       "4    5454938.0    5531451.0    5608499.0    5679409.0    5734995.0   \n",
       "\n",
       "          1965  ...         2011         2012         2013         2014  \\\n",
       "0      57357.0  ...     102050.0     102565.0     103165.0     103776.0   \n",
       "1  148769974.0  ...  532760424.0  547482863.0  562601578.0  578075373.0   \n",
       "2    9956318.0  ...   30117411.0   31161378.0   32269592.0   33370804.0   \n",
       "3  107289875.0  ...  360285439.0  370243017.0  380437896.0  390882979.0   \n",
       "4    5770573.0  ...   24220660.0   25107925.0   26015786.0   26941773.0   \n",
       "\n",
       "          2015         2016         2017         2018         2019  \\\n",
       "0     104339.0     104865.0     105361.0     105846.0     106310.0   \n",
       "1  593871847.0  609978946.0  626392880.0  643090131.0  660046272.0   \n",
       "2   34413603.0   35383028.0   36296111.0   37171922.0   38041757.0   \n",
       "3  401586651.0  412551299.0  423769930.0  435229381.0  446911598.0   \n",
       "4   27884380.0   28842482.0   29816769.0   30809787.0   31825299.0   \n",
       "\n",
       "          2020  \n",
       "0     106766.0  \n",
       "1  677243299.0  \n",
       "2   38928341.0  \n",
       "3  458803476.0  \n",
       "4   32866268.0  \n",
       "\n",
       "[5 rows x 65 columns]"
      ]
     },
     "execution_count": 23,
     "metadata": {},
     "output_type": "execute_result"
    }
   ],
   "source": [
    "import pandas as pd\n",
    "\n",
    "population = pd.read_csv(\"population_data.csv\", skiprows=3).dropna(how='all', axis=1)\n",
    "population.head()"
   ]
  },
  {
   "cell_type": "markdown",
   "id": "6837b280",
   "metadata": {},
   "source": [
    "**Question 1**:\n",
    "Manipulate the dataframe \"population\" to be tidy. Currently, column headers are values, not variable names.\n",
    "\n",
    "* Make a new dataframe \"population_melted\" that contains the same data as \"population\", but\n",
    "    * it has a new column \"Year\" containing the year of the observation\n",
    "    * it has a new column \"Population\" containing the number of inhabitants of the country in this year\n",
    "    * otherwise, it has exactly the same columns and data as \"population\"\n",
    "*Hint*: you can use 'pd.melt'."
   ]
  },
  {
   "cell_type": "code",
   "execution_count": 65,
   "id": "11ae136a",
   "metadata": {},
   "outputs": [],
   "source": [
    "class Question1:\n",
    "    population_melted = ..."
   ]
  },
  {
   "cell_type": "code",
   "execution_count": 50,
   "id": "de51688c",
   "metadata": {
    "deletable": false,
    "editable": false
   },
   "outputs": [
    {
     "data": {
      "text/html": [
       "<p><strong style='color: red;'><pre style='display: inline;'>Question 1</pre> results:</strong></p><p><strong><pre style='display: inline;'>Question 1 - 1</pre> result:</strong></p><pre>    ❌ Test case failed\n",
       "    Error at line 13 in test Question 1:\n",
       "        assert_equal(len(get_population_melted(env)['Year']), 16226)  \n",
       "    TypeError: ellipsis' object is not subscriptable</pre><p><strong><pre style='display: inline;'>Question 1 - 2</pre> result:</strong></p><pre>    ❌ Test case failed\n",
       "    Error at line 17 in test Question 1:\n",
       "          assert_equal(len(get_population_melted(env)['Country Name']),16226)\n",
       "    TypeError: ellipsis' object is not subscriptable</pre><p><strong><pre style='display: inline;'>Question 1 - 3</pre> result:</strong></p><pre>    ❌ Test case failed\n",
       "    Error at line 28 in test Question 1:\n",
       "          assert_equal(population_melted.loc[(population_melted[\"Country Name\"] == \"Switzerland\") & (population_melted[\"Year\"] == \"1960\")][\"Population\"].values[0], 5327827.0)\n",
       "    AttributeError: ellipsis' object has no attribute 'loc</pre>"
      ],
      "text/plain": [
       "Question 1 results:\n",
       "    Question 1 - 1 result:\n",
       "        ❌ Test case failed\n",
       "        Error at line 13 in test Question 1:\n",
       "            assert_equal(len(get_population_melted(env)['Year']), 16226)  \n",
       "        TypeError: ellipsis' object is not subscriptable\n",
       "\n",
       "    Question 1 - 2 result:\n",
       "        ❌ Test case failed\n",
       "        Error at line 17 in test Question 1:\n",
       "              assert_equal(len(get_population_melted(env)['Country Name']),16226)\n",
       "        TypeError: ellipsis' object is not subscriptable\n",
       "\n",
       "    Question 1 - 3 result:\n",
       "        ❌ Test case failed\n",
       "        Error at line 28 in test Question 1:\n",
       "              assert_equal(population_melted.loc[(population_melted[\"Country Name\"] == \"Switzerland\") & (population_melted[\"Year\"] == \"1960\")][\"Population\"].values[0], 5327827.0)\n",
       "        AttributeError: ellipsis' object has no attribute 'loc"
      ]
     },
     "execution_count": 50,
     "metadata": {},
     "output_type": "execute_result"
    }
   ],
   "source": [
    "grader.check(\"Question 1\")"
   ]
  },
  {
   "cell_type": "markdown",
   "id": "fe8c6c63",
   "metadata": {},
   "source": [
    "**Question 2**: Sort the dataframe population_melted by \"Country Name\" and \"Year\""
   ]
  },
  {
   "cell_type": "code",
   "execution_count": 53,
   "id": "c96ab372",
   "metadata": {},
   "outputs": [],
   "source": [
    "class Question2:\n",
    "    # You can access the population from above as \n",
    "    # Question1.population_melted\n",
    "    population_melted_sort = ..."
   ]
  },
  {
   "cell_type": "code",
   "execution_count": 54,
   "id": "3b044e80",
   "metadata": {
    "deletable": false,
    "editable": false
   },
   "outputs": [
    {
     "data": {
      "text/html": [
       "<p><strong style='color: red;'><pre style='display: inline;'>Question 2</pre> results:</strong></p><p><strong><pre style='display: inline;'>Question 2 - 1</pre> result:</strong></p><pre>    ❌ Test case failed\n",
       "    Error at line 11 in test Question 2:\n",
       "          assert_true(sorted(list(population_melted_sort['Country Name'])) == list(population_melted_sort['Country Name']))\n",
       "    TypeError: ellipsis' object is not subscriptable</pre>"
      ],
      "text/plain": [
       "Question 2 results:\n",
       "    Question 2 - 1 result:\n",
       "        ❌ Test case failed\n",
       "        Error at line 11 in test Question 2:\n",
       "              assert_true(sorted(list(population_melted_sort['Country Name'])) == list(population_melted_sort['Country Name']))\n",
       "        TypeError: ellipsis' object is not subscriptable"
      ]
     },
     "execution_count": 54,
     "metadata": {},
     "output_type": "execute_result"
    }
   ],
   "source": [
    "grader.check(\"Question 2\")"
   ]
  },
  {
   "cell_type": "markdown",
   "id": "b463f0c6",
   "metadata": {},
   "source": [
    "### B (3 points)\n",
    "We will use data about the average height in countries around the world. It comes from [Kaggle](https://www.kaggle.com/majyhain/height-of-male-and-female-by-country-2022)."
   ]
  },
  {
   "cell_type": "code",
   "execution_count": 51,
   "id": "1ac76155",
   "metadata": {},
   "outputs": [
    {
     "data": {
      "text/html": [
       "<div>\n",
       "<style scoped>\n",
       "    .dataframe tbody tr th:only-of-type {\n",
       "        vertical-align: middle;\n",
       "    }\n",
       "\n",
       "    .dataframe tbody tr th {\n",
       "        vertical-align: top;\n",
       "    }\n",
       "\n",
       "    .dataframe thead th {\n",
       "        text-align: right;\n",
       "    }\n",
       "</style>\n",
       "<table border=\"1\" class=\"dataframe\">\n",
       "  <thead>\n",
       "    <tr style=\"text-align: right;\">\n",
       "      <th></th>\n",
       "      <th>Rank</th>\n",
       "      <th>Country Name</th>\n",
       "      <th>Male Height in Cm</th>\n",
       "      <th>Female Height in Cm</th>\n",
       "      <th>Male Height in Ft</th>\n",
       "      <th>Female Height in Ft</th>\n",
       "    </tr>\n",
       "  </thead>\n",
       "  <tbody>\n",
       "    <tr>\n",
       "      <th>0</th>\n",
       "      <td>1</td>\n",
       "      <td>Netherlands</td>\n",
       "      <td>183.78</td>\n",
       "      <td>170.36</td>\n",
       "      <td>6.03</td>\n",
       "      <td>5.59</td>\n",
       "    </tr>\n",
       "    <tr>\n",
       "      <th>1</th>\n",
       "      <td>2</td>\n",
       "      <td>Montenegro</td>\n",
       "      <td>183.30</td>\n",
       "      <td>169.96</td>\n",
       "      <td>6.01</td>\n",
       "      <td>5.58</td>\n",
       "    </tr>\n",
       "    <tr>\n",
       "      <th>2</th>\n",
       "      <td>3</td>\n",
       "      <td>Estonia</td>\n",
       "      <td>182.79</td>\n",
       "      <td>168.66</td>\n",
       "      <td>6.00</td>\n",
       "      <td>5.53</td>\n",
       "    </tr>\n",
       "    <tr>\n",
       "      <th>3</th>\n",
       "      <td>4</td>\n",
       "      <td>Bosnia and Herzegovina</td>\n",
       "      <td>182.47</td>\n",
       "      <td>167.47</td>\n",
       "      <td>5.99</td>\n",
       "      <td>5.49</td>\n",
       "    </tr>\n",
       "    <tr>\n",
       "      <th>4</th>\n",
       "      <td>5</td>\n",
       "      <td>Iceland</td>\n",
       "      <td>182.10</td>\n",
       "      <td>168.91</td>\n",
       "      <td>5.97</td>\n",
       "      <td>5.54</td>\n",
       "    </tr>\n",
       "    <tr>\n",
       "      <th>...</th>\n",
       "      <td>...</td>\n",
       "      <td>...</td>\n",
       "      <td>...</td>\n",
       "      <td>...</td>\n",
       "      <td>...</td>\n",
       "      <td>...</td>\n",
       "    </tr>\n",
       "    <tr>\n",
       "      <th>193</th>\n",
       "      <td>194</td>\n",
       "      <td>Guatemala</td>\n",
       "      <td>164.36</td>\n",
       "      <td>150.91</td>\n",
       "      <td>5.39</td>\n",
       "      <td>4.95</td>\n",
       "    </tr>\n",
       "    <tr>\n",
       "      <th>194</th>\n",
       "      <td>195</td>\n",
       "      <td>Mozambique</td>\n",
       "      <td>164.30</td>\n",
       "      <td>155.42</td>\n",
       "      <td>5.39</td>\n",
       "      <td>5.10</td>\n",
       "    </tr>\n",
       "    <tr>\n",
       "      <th>195</th>\n",
       "      <td>196</td>\n",
       "      <td>Papua New Guinea</td>\n",
       "      <td>163.10</td>\n",
       "      <td>156.89</td>\n",
       "      <td>5.35</td>\n",
       "      <td>5.15</td>\n",
       "    </tr>\n",
       "    <tr>\n",
       "      <th>196</th>\n",
       "      <td>197</td>\n",
       "      <td>Solomon Islands</td>\n",
       "      <td>163.07</td>\n",
       "      <td>156.79</td>\n",
       "      <td>5.35</td>\n",
       "      <td>5.14</td>\n",
       "    </tr>\n",
       "    <tr>\n",
       "      <th>197</th>\n",
       "      <td>198</td>\n",
       "      <td>Laos</td>\n",
       "      <td>162.78</td>\n",
       "      <td>153.10</td>\n",
       "      <td>5.34</td>\n",
       "      <td>5.02</td>\n",
       "    </tr>\n",
       "  </tbody>\n",
       "</table>\n",
       "<p>198 rows × 6 columns</p>\n",
       "</div>"
      ],
      "text/plain": [
       "     Rank            Country Name  Male Height in Cm  Female Height in Cm  \\\n",
       "0       1             Netherlands             183.78               170.36   \n",
       "1       2              Montenegro             183.30               169.96   \n",
       "2       3                 Estonia             182.79               168.66   \n",
       "3       4  Bosnia and Herzegovina             182.47               167.47   \n",
       "4       5                 Iceland             182.10               168.91   \n",
       "..    ...                     ...                ...                  ...   \n",
       "193   194               Guatemala             164.36               150.91   \n",
       "194   195              Mozambique             164.30               155.42   \n",
       "195   196        Papua New Guinea             163.10               156.89   \n",
       "196   197         Solomon Islands             163.07               156.79   \n",
       "197   198                    Laos             162.78               153.10   \n",
       "\n",
       "     Male Height in Ft  Female Height in Ft  \n",
       "0                 6.03                 5.59  \n",
       "1                 6.01                 5.58  \n",
       "2                 6.00                 5.53  \n",
       "3                 5.99                 5.49  \n",
       "4                 5.97                 5.54  \n",
       "..                 ...                  ...  \n",
       "193               5.39                 4.95  \n",
       "194               5.39                 5.10  \n",
       "195               5.35                 5.15  \n",
       "196               5.35                 5.14  \n",
       "197               5.34                 5.02  \n",
       "\n",
       "[198 rows x 6 columns]"
      ]
     },
     "execution_count": 51,
     "metadata": {},
     "output_type": "execute_result"
    }
   ],
   "source": [
    "height = pd.read_csv(\"height_2022.csv\")\n",
    "height.head(-1)"
   ]
  },
  {
   "cell_type": "markdown",
   "id": "47ada30b",
   "metadata": {},
   "source": [
    "**Question 3**: Make a new dataframe \"height_tidy\" where you removed the columns \"Male Height in Ft\", \"Female Height in Ft\""
   ]
  },
  {
   "cell_type": "code",
   "execution_count": 55,
   "id": "56ff1fe9",
   "metadata": {},
   "outputs": [],
   "source": [
    "class Question3:\n",
    "    height_tidy = ..."
   ]
  },
  {
   "cell_type": "code",
   "execution_count": 56,
   "id": "7e3767a0",
   "metadata": {
    "deletable": false,
    "editable": false
   },
   "outputs": [
    {
     "data": {
      "text/html": [
       "<p><strong style='color: red;'><pre style='display: inline;'>Question 3</pre> results:</strong></p><p><strong><pre style='display: inline;'>Question 3 - 1</pre> result:</strong></p><pre>    ❌ Test case failed\n",
       "    Error at line 12 in test Question 3:\n",
       "          if 'Female Height in Ft' in height_tidy:\n",
       "    TypeError: argument of type 'ellipsis' is not iterable</pre>"
      ],
      "text/plain": [
       "Question 3 results:\n",
       "    Question 3 - 1 result:\n",
       "        ❌ Test case failed\n",
       "        Error at line 12 in test Question 3:\n",
       "              if 'Female Height in Ft' in height_tidy:\n",
       "        TypeError: argument of type 'ellipsis' is not iterable"
      ]
     },
     "execution_count": 56,
     "metadata": {},
     "output_type": "execute_result"
    }
   ],
   "source": [
    "grader.check(\"Question 3\")"
   ]
  },
  {
   "cell_type": "markdown",
   "id": "07382104",
   "metadata": {},
   "source": [
    "**Question 4**: Manipulate the dataframe \"height_tidy\" to be tidy. Currently, multiple variables are stored in one column.\n",
    "\n",
    "* Make a new dataframe \"height_melt\" that contains the same data as \"height_tidy\", but\n",
    "    * it has a new column \"Sex\" containing a single character \"M\" or \"F\" for \"male\"/\"female\"\n",
    "    * it has a new column \"Height in Cm\" containing data about the height in cm"
   ]
  },
  {
   "cell_type": "code",
   "execution_count": null,
   "id": "d6a9c86a",
   "metadata": {
    "nbgrader": {
     "grade": false,
     "grade_id": "cell-b774d9d556851043",
     "locked": false,
     "schema_version": 3,
     "solution": true,
     "task": false
    }
   },
   "outputs": [],
   "source": [
    "class Question4:\n",
    "    \n",
    "    # You can access height_tidy using Question3.height_tidy\n",
    "    \n",
    "    height_melt = ...\n",
    "    ...\n",
    "\n",
    "    # shrink the data on gender to one letter\n",
    "    ...\n",
    "\n",
    "    # show that it works\n",
    "    height_melt.head(5)"
   ]
  },
  {
   "cell_type": "code",
   "execution_count": null,
   "id": "ad467d4f",
   "metadata": {
    "deletable": false,
    "editable": false
   },
   "outputs": [],
   "source": [
    "grader.check(\"Question 4\")"
   ]
  },
  {
   "cell_type": "markdown",
   "id": "159b4c05",
   "metadata": {},
   "source": [
    "### C (4 points)\n",
    "We will work with data about billboards in the 2000s (as in the lecture)."
   ]
  },
  {
   "cell_type": "code",
   "execution_count": null,
   "id": "144ecae8",
   "metadata": {},
   "outputs": [],
   "source": [
    "billboard = pd.read_csv(\"billboard_intermediate.csv\")\n",
    "billboard.head()"
   ]
  },
  {
   "cell_type": "markdown",
   "id": "1e956b47",
   "metadata": {},
   "source": [
    "**Question 5:**: Manipulate the dataframe \"billboard\" into two dataframes that each store one observational unit.\n",
    "\n",
    "* Make a new dataframe \"billboard_songs\" that contains information about the songs\n",
    "    * It should contain these columns from the \"billboard\" dataframe: \"artist.inverted\", \"track\", \"time\", \"genre\"\n",
    "* Make a new dataframe \"billboard_charts\" that contains information about the chart performance of the songs\n",
    "    * It should contain these columns from the \"billboard\" dataframe: \"date\", \"date.peaked\", \"week\", \"rank\"\n",
    "* Additionally, both dataframes should contain a column named \"track_id\" that gives each track a unique ID and links the information in the two dataframes.\n",
    "\n",
    "(Hint: Pandas has a function [.groupby().ngroup()](https://stackoverflow.com/questions/39665374/how-to-make-a-group-id-using-pandas) that could help you with the track id)"
   ]
  },
  {
   "cell_type": "code",
   "execution_count": 66,
   "id": "8565e2f0",
   "metadata": {
    "nbgrader": {
     "grade": false,
     "grade_id": "cell-262fb79928ed7861",
     "locked": false,
     "schema_version": 3,
     "solution": true,
     "task": false
    }
   },
   "outputs": [
    {
     "ename": "AttributeError",
     "evalue": "'ellipsis' object has no attribute 'head'",
     "output_type": "error",
     "traceback": [
      "\u001b[1;31m---------------------------------------------------------------------------\u001b[0m",
      "\u001b[1;31mAttributeError\u001b[0m                            Traceback (most recent call last)",
      "Cell \u001b[1;32mIn[66], line 1\u001b[0m\n\u001b[1;32m----> 1\u001b[0m \u001b[38;5;28;01mclass\u001b[39;00m \u001b[38;5;21;01mQuestion5\u001b[39;00m:\n\u001b[0;32m      2\u001b[0m     \u001b[38;5;66;03m# First add the track id\u001b[39;00m\n\u001b[0;32m      3\u001b[0m     \u001b[38;5;241m.\u001b[39m\u001b[38;5;241m.\u001b[39m\u001b[38;5;241m.\u001b[39m\n\u001b[0;32m      5\u001b[0m     \u001b[38;5;66;03m# Now split the dataframe\u001b[39;00m\n",
      "Cell \u001b[1;32mIn[66], line 8\u001b[0m, in \u001b[0;36mQuestion5\u001b[1;34m()\u001b[0m\n\u001b[0;32m      6\u001b[0m \u001b[38;5;241m.\u001b[39m\u001b[38;5;241m.\u001b[39m\u001b[38;5;241m.\u001b[39m\n\u001b[0;32m      7\u001b[0m billboard_songs \u001b[38;5;241m=\u001b[39m \u001b[38;5;241m.\u001b[39m\u001b[38;5;241m.\u001b[39m\u001b[38;5;241m.\u001b[39m\n\u001b[1;32m----> 8\u001b[0m \u001b[43mbillboard_songs\u001b[49m\u001b[38;5;241;43m.\u001b[39;49m\u001b[43mhead\u001b[49m()\n\u001b[0;32m     10\u001b[0m billboard_charts \u001b[38;5;241m=\u001b[39m \u001b[38;5;241m.\u001b[39m\u001b[38;5;241m.\u001b[39m\u001b[38;5;241m.\u001b[39m\n\u001b[0;32m     11\u001b[0m billboard_charts\u001b[38;5;241m.\u001b[39mhead()\n",
      "\u001b[1;31mAttributeError\u001b[0m: 'ellipsis' object has no attribute 'head'"
     ]
    }
   ],
   "source": [
    "class Question5:\n",
    "    # First add the track id\n",
    "    ...\n",
    "\n",
    "    # Now split the dataframe\n",
    "    ...\n",
    "    billboard_songs = ...\n",
    "    billboard_songs.head()\n",
    "\n",
    "    billboard_charts = ...\n",
    "    billboard_charts.head()"
   ]
  },
  {
   "cell_type": "code",
   "execution_count": 63,
   "id": "603aa7f8",
   "metadata": {
    "deletable": false,
    "editable": false
   },
   "outputs": [
    {
     "data": {
      "text/html": [
       "<p><strong style='color: red;'><pre style='display: inline;'>Question 5</pre> results:</strong></p><p><strong><pre style='display: inline;'>Question 5 - 1</pre> result:</strong></p><pre>    ❌ Test case failed\n",
       "    Error at line 16 in test Question 5:\n",
       "          assert_true(isinstance(billboard_songs, pd.DataFrame))\n",
       "    AssertionError: False is not true</pre>"
      ],
      "text/plain": [
       "Question 5 results:\n",
       "    Question 5 - 1 result:\n",
       "        ❌ Test case failed\n",
       "        Error at line 16 in test Question 5:\n",
       "              assert_true(isinstance(billboard_songs, pd.DataFrame))\n",
       "        AssertionError: False is not true"
      ]
     },
     "execution_count": 63,
     "metadata": {},
     "output_type": "execute_result"
    }
   ],
   "source": [
    "grader.check(\"Question 5\")"
   ]
  },
  {
   "cell_type": "markdown",
   "id": "4e1b7078",
   "metadata": {},
   "source": [
    "## 2 - EDA (6 points)"
   ]
  },
  {
   "cell_type": "markdown",
   "id": "097b6cf7",
   "metadata": {},
   "source": [
    "### A (2 points)\n",
    "Let's answer one more question about billboard hits in the 2000s. Use the billboard, billboard_songs or billboard_charts dataframes."
   ]
  },
  {
   "cell_type": "markdown",
   "id": "d564c37e",
   "metadata": {},
   "source": [
    "**Question 6**: What was the number one hit (rank = 1) on 2000/07/29? This question may seem random (and it is), but this is the 2000s! This is the day on which Jennifer Aniston married Brad Pitt. Did they play this song? Who knows.\n",
    "\n",
    "* Define one variable\n",
    "    * \"name_song\": Name of the song that was at rank 1 on the given date"
   ]
  },
  {
   "cell_type": "code",
   "execution_count": 69,
   "id": "99016627",
   "metadata": {
    "nbgrader": {
     "grade": false,
     "grade_id": "cell-75a4834772643fcd",
     "locked": false,
     "schema_version": 3,
     "solution": true,
     "task": false
    }
   },
   "outputs": [],
   "source": [
    "class Question6:\n",
    "    ...\n",
    "    name_song = ...\n",
    "    name_song"
   ]
  },
  {
   "cell_type": "code",
   "execution_count": 70,
   "id": "00cbd45d",
   "metadata": {
    "deletable": false,
    "editable": false
   },
   "outputs": [
    {
     "data": {
      "text/html": [
       "<p><strong style='color: red;'><pre style='display: inline;'>Question 6</pre> results:</strong></p><p><strong><pre style='display: inline;'>Question 6 - 1</pre> result:</strong></p><pre>    ❌ Test case failed\n",
       "    Error at line 13 in test Question 6:\n",
       "          assert_true(name_song == \"It\\'s Gonna Be Me\")\n",
       "    AssertionError: False is not true</pre>"
      ],
      "text/plain": [
       "Question 6 results:\n",
       "    Question 6 - 1 result:\n",
       "        ❌ Test case failed\n",
       "        Error at line 13 in test Question 6:\n",
       "              assert_true(name_song == \"It\\'s Gonna Be Me\")\n",
       "        AssertionError: False is not true"
      ]
     },
     "execution_count": 70,
     "metadata": {},
     "output_type": "execute_result"
    }
   ],
   "source": [
    "grader.check(\"Question 6\")"
   ]
  },
  {
   "cell_type": "markdown",
   "id": "b82c6de0",
   "metadata": {},
   "source": [
    "### 2b (4 points)\n",
    "Let's answer some questions about average heights. Use the height, height_tidy or height_melt dataframes."
   ]
  },
  {
   "cell_type": "markdown",
   "id": "bde0356f",
   "metadata": {},
   "source": [
    "**Question 7**: What's the country with the tallest men?\n",
    "\n",
    "* Define two variables\n",
    "    * \"country_tallest_men\": Name of the country of tallest men as a string\n",
    "    * \"height_tallest_men\": Average height of men in this country in cm\n",
    "\n",
    "(Hint: Pandas function max() can help here!)"
   ]
  },
  {
   "cell_type": "code",
   "execution_count": null,
   "id": "b6af8a0a",
   "metadata": {
    "nbgrader": {
     "grade": false,
     "grade_id": "cell-4283fe78120f5a5d",
     "locked": false,
     "schema_version": 3,
     "solution": true,
     "task": false
    }
   },
   "outputs": [],
   "source": [
    "class Question7:\n",
    "    ...\n",
    "\n",
    "    country_tallest_men = ...\n",
    "    height_tallest_men = ..."
   ]
  },
  {
   "cell_type": "code",
   "execution_count": 22,
   "id": "6c1e42d0",
   "metadata": {
    "deletable": false,
    "editable": false
   },
   "outputs": [
    {
     "data": {
      "text/html": [
       "<p><strong><pre style='display: inline;'>Question 7</pre></strong> passed! 🎉</p>"
      ],
      "text/plain": [
       "Question 7 results: All test cases passed!"
      ]
     },
     "execution_count": 22,
     "metadata": {},
     "output_type": "execute_result"
    }
   ],
   "source": [
    "grader.check(\"Question 7\")"
   ]
  },
  {
   "cell_type": "markdown",
   "id": "db5894a9",
   "metadata": {},
   "source": [
    "**Question8**: In which country is the difference of average heights between men and women largest?\n",
    "\n",
    "* Define two variables\n",
    "    * \"country_largest_difference\": Name of the country where the average height difference between men and women is largest\n",
    "    * \"largest_difference\": Difference of average heights of men and women in this country in cm"
   ]
  },
  {
   "cell_type": "code",
   "execution_count": null,
   "id": "c280a5a4",
   "metadata": {
    "nbgrader": {
     "grade": false,
     "grade_id": "cell-4e575ca703ccbd4e",
     "locked": false,
     "schema_version": 3,
     "solution": true,
     "task": false
    }
   },
   "outputs": [],
   "source": [
    "class Question8:\n",
    "    ...\n",
    "\n",
    "    ...\n",
    "\n",
    "    country_largest_difference = ...\n",
    "    largest_difference = ..."
   ]
  },
  {
   "cell_type": "code",
   "execution_count": 23,
   "id": "382f16b9",
   "metadata": {
    "deletable": false,
    "editable": false
   },
   "outputs": [
    {
     "data": {
      "text/html": [
       "<p><strong><pre style='display: inline;'>Question 8</pre></strong> passed! 🚀</p>"
      ],
      "text/plain": [
       "Question 8 results: All test cases passed!"
      ]
     },
     "execution_count": 23,
     "metadata": {},
     "output_type": "execute_result"
    }
   ],
   "source": [
    "grader.check(\"Question 8\")"
   ]
  },
  {
   "cell_type": "markdown",
   "id": "b62f9590",
   "metadata": {},
   "source": [
    "**Question 9**: What's (Pearson's) correlation value of average male and average female height?\n",
    "\n",
    "* Define a new variable \"corr_avg_heights\" that contains the correlation value of average male and female heights\n",
    "\n",
    "(Hint: Use Panda's function corr().)"
   ]
  },
  {
   "cell_type": "code",
   "execution_count": null,
   "id": "1b4d27b8",
   "metadata": {
    "nbgrader": {
     "grade": false,
     "grade_id": "cell-b5438d2320f5d36d",
     "locked": false,
     "schema_version": 3,
     "solution": true,
     "task": false
    }
   },
   "outputs": [],
   "source": [
    "class Question9:\n",
    "    corr_avg_heights = ..."
   ]
  },
  {
   "cell_type": "code",
   "execution_count": null,
   "id": "10167f1b",
   "metadata": {
    "deletable": false,
    "editable": false
   },
   "outputs": [],
   "source": [
    "grader.check(\"Question 9\")"
   ]
  },
  {
   "cell_type": "markdown",
   "id": "0bcf9745",
   "metadata": {
    "deletable": false,
    "editable": false
   },
   "source": [
    "---\n",
    "\n",
    "To double-check your work, the cell below will rerun all of the autograder tests."
   ]
  },
  {
   "cell_type": "code",
   "execution_count": 35,
   "id": "de9e3543",
   "metadata": {
    "deletable": false,
    "editable": false
   },
   "outputs": [
    {
     "data": {
      "text/plain": [
       "Question 1 results: All test cases passed!\n",
       "\n",
       "Question 2 results:\n",
       "    Question 2 - 1 result:\n",
       "        ❌ Test case failed\n",
       "        Trying:\n",
       "            assert_true(sorted(list(population_melted_sort['Country Name'])) == list(population_melted_sort['Country Name']))\n",
       "        Expecting nothing\n",
       "        **********************************************************************\n",
       "        Line 1, in Question 2 0\n",
       "        Failed example:\n",
       "            assert_true(sorted(list(population_melted_sort['Country Name'])) == list(population_melted_sort['Country Name']))\n",
       "        Exception raised:\n",
       "            Traceback (most recent call last):\n",
       "              File \"C:\\Program Files\\WindowsApps\\PythonSoftwareFoundation.Python.3.10_3.10.3056.0_x64__qbz5n2kfra8p0\\lib\\doctest.py\", line 1350, in __run\n",
       "                exec(compile(example.source, filename, \"single\",\n",
       "              File \"<doctest Question 2 0[0]>\", line 1, in <module>\n",
       "                assert_true(sorted(list(population_melted_sort['Country Name'])) == list(population_melted_sort['Country Name']))\n",
       "            NameError: name 'assert_true' is not defined\n",
       "\n",
       "Question 3 results:\n",
       "    Question 3 - 1 result:\n",
       "        ❌ Test case failed\n",
       "        Trying:\n",
       "            if 'Female Height in Ft' in height_tidy:\n",
       "                assert_true(False)\n",
       "        Expecting nothing\n",
       "        **********************************************************************\n",
       "        Line 1, in Question 3 0\n",
       "        Failed example:\n",
       "            if 'Female Height in Ft' in height_tidy:\n",
       "                assert_true(False)\n",
       "        Exception raised:\n",
       "            Traceback (most recent call last):\n",
       "              File \"C:\\Program Files\\WindowsApps\\PythonSoftwareFoundation.Python.3.10_3.10.3056.0_x64__qbz5n2kfra8p0\\lib\\doctest.py\", line 1350, in __run\n",
       "                exec(compile(example.source, filename, \"single\",\n",
       "              File \"<doctest Question 3 0[0]>\", line 1, in <module>\n",
       "                if 'Female Height in Ft' in height_tidy:\n",
       "            NameError: name 'height_tidy' is not defined\n",
       "\n",
       "Question 4 results:\n",
       "    Question 4 - 1 result:\n",
       "        ❌ Test case failed\n",
       "        Trying:\n",
       "            assert_true(isinstance(height_melt,pd.DataFrame))\n",
       "        Expecting nothing\n",
       "        **********************************************************************\n",
       "        Line 1, in Question 4 0\n",
       "        Failed example:\n",
       "            assert_true(isinstance(height_melt,pd.DataFrame))\n",
       "        Exception raised:\n",
       "            Traceback (most recent call last):\n",
       "              File \"C:\\Program Files\\WindowsApps\\PythonSoftwareFoundation.Python.3.10_3.10.3056.0_x64__qbz5n2kfra8p0\\lib\\doctest.py\", line 1350, in __run\n",
       "                exec(compile(example.source, filename, \"single\",\n",
       "              File \"<doctest Question 4 0[0]>\", line 1, in <module>\n",
       "                assert_true(isinstance(height_melt,pd.DataFrame))\n",
       "            NameError: name 'assert_true' is not defined\n",
       "\n",
       "    Question 4 - 2 result:\n",
       "        ❌ Test case failed\n",
       "        Trying:\n",
       "            assert_true(len(height_melt[height_melt[\"Sex\"] == \"M\"]) == len(height_melt[height_melt[\"Sex\"] == \"F\"]))\n",
       "        Expecting nothing\n",
       "        **********************************************************************\n",
       "        Line 1, in Question 4 1\n",
       "        Failed example:\n",
       "            assert_true(len(height_melt[height_melt[\"Sex\"] == \"M\"]) == len(height_melt[height_melt[\"Sex\"] == \"F\"]))\n",
       "        Exception raised:\n",
       "            Traceback (most recent call last):\n",
       "              File \"C:\\Program Files\\WindowsApps\\PythonSoftwareFoundation.Python.3.10_3.10.3056.0_x64__qbz5n2kfra8p0\\lib\\doctest.py\", line 1350, in __run\n",
       "                exec(compile(example.source, filename, \"single\",\n",
       "              File \"<doctest Question 4 1[0]>\", line 1, in <module>\n",
       "                assert_true(len(height_melt[height_melt[\"Sex\"] == \"M\"]) == len(height_melt[height_melt[\"Sex\"] == \"F\"]))\n",
       "            NameError: name 'assert_true' is not defined\n",
       "\n",
       "    Question 4 - 3 result:\n",
       "        ❌ Test case failed\n",
       "        Trying:\n",
       "            assert_true(height_melt.loc[(height_melt[\"Country Name\"] == \"Switzerland\") & (height_melt[\"Sex\"] == \"F\")][\"Height in Cm\"].values[0] == 164.33)\n",
       "        Expecting nothing\n",
       "        **********************************************************************\n",
       "        Line 1, in Question 4 2\n",
       "        Failed example:\n",
       "            assert_true(height_melt.loc[(height_melt[\"Country Name\"] == \"Switzerland\") & (height_melt[\"Sex\"] == \"F\")][\"Height in Cm\"].values[0] == 164.33)\n",
       "        Exception raised:\n",
       "            Traceback (most recent call last):\n",
       "              File \"C:\\Program Files\\WindowsApps\\PythonSoftwareFoundation.Python.3.10_3.10.3056.0_x64__qbz5n2kfra8p0\\lib\\doctest.py\", line 1350, in __run\n",
       "                exec(compile(example.source, filename, \"single\",\n",
       "              File \"<doctest Question 4 2[0]>\", line 1, in <module>\n",
       "                assert_true(height_melt.loc[(height_melt[\"Country Name\"] == \"Switzerland\") & (height_melt[\"Sex\"] == \"F\")][\"Height in Cm\"].values[0] == 164.33)\n",
       "            NameError: name 'assert_true' is not defined\n",
       "\n",
       "Question 5 results:\n",
       "    Question 5 - 1 result:\n",
       "        ❌ Test case failed\n",
       "        Trying:\n",
       "            assert_true(isinstance(billboard_songs, pd.DataFrame))\n",
       "        Expecting nothing\n",
       "        **********************************************************************\n",
       "        Line 1, in Question 5 0\n",
       "        Failed example:\n",
       "            assert_true(isinstance(billboard_songs, pd.DataFrame))\n",
       "        Exception raised:\n",
       "            Traceback (most recent call last):\n",
       "              File \"C:\\Program Files\\WindowsApps\\PythonSoftwareFoundation.Python.3.10_3.10.3056.0_x64__qbz5n2kfra8p0\\lib\\doctest.py\", line 1350, in __run\n",
       "                exec(compile(example.source, filename, \"single\",\n",
       "              File \"<doctest Question 5 0[0]>\", line 1, in <module>\n",
       "                assert_true(isinstance(billboard_songs, pd.DataFrame))\n",
       "            NameError: name 'assert_true' is not defined\n",
       "\n",
       "    Question 5 - 2 result:\n",
       "        ❌ Test case failed\n",
       "        Trying:\n",
       "            assert_true(np.array_equal(np.unique(billboard_songs[\"track_id\"]),np.unique(billboard_charts[\"track_id\"])))\n",
       "        Expecting nothing\n",
       "        **********************************************************************\n",
       "        Line 1, in Question 5 1\n",
       "        Failed example:\n",
       "            assert_true(np.array_equal(np.unique(billboard_songs[\"track_id\"]),np.unique(billboard_charts[\"track_id\"])))\n",
       "        Exception raised:\n",
       "            Traceback (most recent call last):\n",
       "              File \"C:\\Program Files\\WindowsApps\\PythonSoftwareFoundation.Python.3.10_3.10.3056.0_x64__qbz5n2kfra8p0\\lib\\doctest.py\", line 1350, in __run\n",
       "                exec(compile(example.source, filename, \"single\",\n",
       "              File \"<doctest Question 5 1[0]>\", line 1, in <module>\n",
       "                assert_true(np.array_equal(np.unique(billboard_songs[\"track_id\"]),np.unique(billboard_charts[\"track_id\"])))\n",
       "            NameError: name 'assert_true' is not defined\n",
       "\n",
       "    Question 5 - 3 result:\n",
       "        ❌ Test case failed\n",
       "        Trying:\n",
       "            assert_true(len(billboard_charts) == 24092)\n",
       "        Expecting nothing\n",
       "        **********************************************************************\n",
       "        Line 1, in Question 5 2\n",
       "        Failed example:\n",
       "            assert_true(len(billboard_charts) == 24092)\n",
       "        Exception raised:\n",
       "            Traceback (most recent call last):\n",
       "              File \"C:\\Program Files\\WindowsApps\\PythonSoftwareFoundation.Python.3.10_3.10.3056.0_x64__qbz5n2kfra8p0\\lib\\doctest.py\", line 1350, in __run\n",
       "                exec(compile(example.source, filename, \"single\",\n",
       "              File \"<doctest Question 5 2[0]>\", line 1, in <module>\n",
       "                assert_true(len(billboard_charts) == 24092)\n",
       "            NameError: name 'assert_true' is not defined\n",
       "\n",
       "Question 6 results:\n",
       "    Question 6 - 1 result:\n",
       "        ❌ Test case failed\n",
       "        Trying:\n",
       "            assert_true(name_song == \"It's Gonna Be Me\")\n",
       "        Expecting nothing\n",
       "        **********************************************************************\n",
       "        Line 1, in Question 6 0\n",
       "        Failed example:\n",
       "            assert_true(name_song == \"It's Gonna Be Me\")\n",
       "        Exception raised:\n",
       "            Traceback (most recent call last):\n",
       "              File \"C:\\Program Files\\WindowsApps\\PythonSoftwareFoundation.Python.3.10_3.10.3056.0_x64__qbz5n2kfra8p0\\lib\\doctest.py\", line 1350, in __run\n",
       "                exec(compile(example.source, filename, \"single\",\n",
       "              File \"<doctest Question 6 0[0]>\", line 1, in <module>\n",
       "                assert_true(name_song == \"It's Gonna Be Me\")\n",
       "            NameError: name 'assert_true' is not defined\n",
       "\n",
       "Question 7 results:\n",
       "    Question 7 - 1 result:\n",
       "        ❌ Test case failed\n",
       "        Trying:\n",
       "            assert_true(country_tallest_men == \"Netherlands\")\n",
       "        Expecting nothing\n",
       "        **********************************************************************\n",
       "        Line 1, in Question 7 0\n",
       "        Failed example:\n",
       "            assert_true(country_tallest_men == \"Netherlands\")\n",
       "        Exception raised:\n",
       "            Traceback (most recent call last):\n",
       "              File \"C:\\Program Files\\WindowsApps\\PythonSoftwareFoundation.Python.3.10_3.10.3056.0_x64__qbz5n2kfra8p0\\lib\\doctest.py\", line 1350, in __run\n",
       "                exec(compile(example.source, filename, \"single\",\n",
       "              File \"<doctest Question 7 0[0]>\", line 1, in <module>\n",
       "                assert_true(country_tallest_men == \"Netherlands\")\n",
       "            NameError: name 'assert_true' is not defined\n",
       "\n",
       "    Question 7 - 2 result:\n",
       "        ❌ Test case failed\n",
       "        Trying:\n",
       "            assert_true(abs(height_tallest_men - 183.78) < 0.1)\n",
       "        Expecting nothing\n",
       "        **********************************************************************\n",
       "        Line 1, in Question 7 1\n",
       "        Failed example:\n",
       "            assert_true(abs(height_tallest_men - 183.78) < 0.1)\n",
       "        Exception raised:\n",
       "            Traceback (most recent call last):\n",
       "              File \"C:\\Program Files\\WindowsApps\\PythonSoftwareFoundation.Python.3.10_3.10.3056.0_x64__qbz5n2kfra8p0\\lib\\doctest.py\", line 1350, in __run\n",
       "                exec(compile(example.source, filename, \"single\",\n",
       "              File \"<doctest Question 7 1[0]>\", line 1, in <module>\n",
       "                assert_true(abs(height_tallest_men - 183.78) < 0.1)\n",
       "            NameError: name 'assert_true' is not defined\n",
       "\n",
       "Question 8 results:\n",
       "    Question 8 - 1 result:\n",
       "        ❌ Test case failed\n",
       "        Trying:\n",
       "            assert_true(country_largest_difference == \"Puerto Rico\")\n",
       "        Expecting nothing\n",
       "        **********************************************************************\n",
       "        Line 1, in Question 8 0\n",
       "        Failed example:\n",
       "            assert_true(country_largest_difference == \"Puerto Rico\")\n",
       "        Exception raised:\n",
       "            Traceback (most recent call last):\n",
       "              File \"C:\\Program Files\\WindowsApps\\PythonSoftwareFoundation.Python.3.10_3.10.3056.0_x64__qbz5n2kfra8p0\\lib\\doctest.py\", line 1350, in __run\n",
       "                exec(compile(example.source, filename, \"single\",\n",
       "              File \"<doctest Question 8 0[0]>\", line 1, in <module>\n",
       "                assert_true(country_largest_difference == \"Puerto Rico\")\n",
       "            NameError: name 'assert_true' is not defined\n",
       "\n",
       "    Question 8 - 2 result:\n",
       "        ❌ Test case failed\n",
       "        Trying:\n",
       "            assert_true(abs(largest_difference - 16.5) < 0.1)\n",
       "        Expecting nothing\n",
       "        **********************************************************************\n",
       "        Line 1, in Question 8 1\n",
       "        Failed example:\n",
       "            assert_true(abs(largest_difference - 16.5) < 0.1)\n",
       "        Exception raised:\n",
       "            Traceback (most recent call last):\n",
       "              File \"C:\\Program Files\\WindowsApps\\PythonSoftwareFoundation.Python.3.10_3.10.3056.0_x64__qbz5n2kfra8p0\\lib\\doctest.py\", line 1350, in __run\n",
       "                exec(compile(example.source, filename, \"single\",\n",
       "              File \"<doctest Question 8 1[0]>\", line 1, in <module>\n",
       "                assert_true(abs(largest_difference - 16.5) < 0.1)\n",
       "            NameError: name 'assert_true' is not defined\n",
       "\n",
       "Question 9 results: All test cases passed!"
      ]
     },
     "execution_count": 35,
     "metadata": {},
     "output_type": "execute_result"
    }
   ],
   "source": [
    "grader.check_all()"
   ]
  },
  {
   "cell_type": "markdown",
   "id": "d2fac99d",
   "metadata": {
    "deletable": false
   },
   "source": [
    "## Submission\n",
    "\n",
    "Please download this notebook as a .ipynb file and submit it on Adam. To download the notebook choose \n",
    "> File->Download as->Notebook (.ipynb)\n",
    "\n",
    "in the menu."
   ]
  }
 ],
 "metadata": {
  "celltoolbar": "Edit Metadata",
  "kernelspec": {
   "display_name": "Python 3 (ipykernel)",
   "language": "python",
   "name": "python3"
  },
  "language_info": {
   "codemirror_mode": {
    "name": "ipython",
    "version": 3
   },
   "file_extension": ".py",
   "mimetype": "text/x-python",
   "name": "python",
   "nbconvert_exporter": "python",
   "pygments_lexer": "ipython3",
   "version": "3.10.11"
  }
 },
 "nbformat": 4,
 "nbformat_minor": 5
}
